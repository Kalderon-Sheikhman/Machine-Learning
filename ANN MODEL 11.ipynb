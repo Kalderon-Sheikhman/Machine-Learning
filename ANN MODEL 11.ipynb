{
 "cells": [
  {
   "cell_type": "code",
   "execution_count": 1,
   "id": "4c258706",
   "metadata": {},
   "outputs": [],
   "source": [
    "import pandas as pd\n",
    "\n",
    "import numpy as np \n",
    "\n",
    "import matplotlib.pyplot as plt\n",
    "\n",
    "import sklearn \n",
    "import joblib\n",
    "\n",
    "from sklearn.neural_network import MLPRegressor\n",
    "\n",
    "\n",
    "from sklearn.model_selection import train_test_split\n",
    "\n",
    "from sklearn.metrics import mean_squared_error\n",
    "\n",
    "from math import sqrt\n",
    "\n",
    "from sklearn.metrics import r2_score\n",
    "import seaborn as sns"
   ]
  },
  {
   "cell_type": "code",
   "execution_count": 2,
   "id": "25746d06",
   "metadata": {},
   "outputs": [
    {
     "name": "stdout",
     "output_type": "stream",
     "text": [
      "(13131, 15)\n"
     ]
    },
    {
     "data": {
      "text/html": [
       "<div>\n",
       "<style scoped>\n",
       "    .dataframe tbody tr th:only-of-type {\n",
       "        vertical-align: middle;\n",
       "    }\n",
       "\n",
       "    .dataframe tbody tr th {\n",
       "        vertical-align: top;\n",
       "    }\n",
       "\n",
       "    .dataframe thead th {\n",
       "        text-align: right;\n",
       "    }\n",
       "</style>\n",
       "<table border=\"1\" class=\"dataframe\">\n",
       "  <thead>\n",
       "    <tr style=\"text-align: right;\">\n",
       "      <th></th>\n",
       "      <th>count</th>\n",
       "      <th>mean</th>\n",
       "      <th>std</th>\n",
       "      <th>min</th>\n",
       "      <th>25%</th>\n",
       "      <th>50%</th>\n",
       "      <th>75%</th>\n",
       "      <th>max</th>\n",
       "    </tr>\n",
       "  </thead>\n",
       "  <tbody>\n",
       "    <tr>\n",
       "      <th>DEPTH</th>\n",
       "      <td>13131.0</td>\n",
       "      <td>2598.337597</td>\n",
       "      <td>615.283554</td>\n",
       "      <td>1524.000000</td>\n",
       "      <td>2067.991800</td>\n",
       "      <td>2629.357200</td>\n",
       "      <td>3134.334600</td>\n",
       "      <td>3635.654400</td>\n",
       "    </tr>\n",
       "    <tr>\n",
       "      <th>CALI</th>\n",
       "      <td>13131.0</td>\n",
       "      <td>12.537325</td>\n",
       "      <td>2.107427</td>\n",
       "      <td>8.643100</td>\n",
       "      <td>11.030600</td>\n",
       "      <td>12.104500</td>\n",
       "      <td>13.873200</td>\n",
       "      <td>20.282900</td>\n",
       "    </tr>\n",
       "    <tr>\n",
       "      <th>GR</th>\n",
       "      <td>13131.0</td>\n",
       "      <td>87.235983</td>\n",
       "      <td>24.441441</td>\n",
       "      <td>28.004200</td>\n",
       "      <td>62.991050</td>\n",
       "      <td>98.395800</td>\n",
       "      <td>106.991700</td>\n",
       "      <td>131.366500</td>\n",
       "    </tr>\n",
       "    <tr>\n",
       "      <th>ILD</th>\n",
       "      <td>13131.0</td>\n",
       "      <td>2.383127</td>\n",
       "      <td>1.089810</td>\n",
       "      <td>0.581700</td>\n",
       "      <td>1.735400</td>\n",
       "      <td>2.218900</td>\n",
       "      <td>2.850300</td>\n",
       "      <td>9.117600</td>\n",
       "    </tr>\n",
       "    <tr>\n",
       "      <th>ITT</th>\n",
       "      <td>13131.0</td>\n",
       "      <td>0.095339</td>\n",
       "      <td>0.014940</td>\n",
       "      <td>0.059600</td>\n",
       "      <td>0.086300</td>\n",
       "      <td>0.091000</td>\n",
       "      <td>0.096800</td>\n",
       "      <td>0.180500</td>\n",
       "    </tr>\n",
       "    <tr>\n",
       "      <th>LLD</th>\n",
       "      <td>13131.0</td>\n",
       "      <td>2.396797</td>\n",
       "      <td>1.323735</td>\n",
       "      <td>0.597000</td>\n",
       "      <td>1.603350</td>\n",
       "      <td>2.171200</td>\n",
       "      <td>2.819900</td>\n",
       "      <td>28.348200</td>\n",
       "    </tr>\n",
       "    <tr>\n",
       "      <th>LLS</th>\n",
       "      <td>13131.0</td>\n",
       "      <td>2.667173</td>\n",
       "      <td>1.385152</td>\n",
       "      <td>0.675300</td>\n",
       "      <td>1.801850</td>\n",
       "      <td>2.447700</td>\n",
       "      <td>3.200650</td>\n",
       "      <td>29.775900</td>\n",
       "    </tr>\n",
       "    <tr>\n",
       "      <th>MSFL</th>\n",
       "      <td>13131.0</td>\n",
       "      <td>2.561160</td>\n",
       "      <td>2.395647</td>\n",
       "      <td>0.209000</td>\n",
       "      <td>1.171900</td>\n",
       "      <td>1.806700</td>\n",
       "      <td>3.515500</td>\n",
       "      <td>75.173600</td>\n",
       "    </tr>\n",
       "    <tr>\n",
       "      <th>NPHI</th>\n",
       "      <td>13131.0</td>\n",
       "      <td>0.257420</td>\n",
       "      <td>0.065861</td>\n",
       "      <td>0.037200</td>\n",
       "      <td>0.210700</td>\n",
       "      <td>0.243500</td>\n",
       "      <td>0.285300</td>\n",
       "      <td>0.490900</td>\n",
       "    </tr>\n",
       "    <tr>\n",
       "      <th>RHOB</th>\n",
       "      <td>13131.0</td>\n",
       "      <td>2.418670</td>\n",
       "      <td>0.121271</td>\n",
       "      <td>1.750600</td>\n",
       "      <td>2.356250</td>\n",
       "      <td>2.440400</td>\n",
       "      <td>2.503650</td>\n",
       "      <td>2.692100</td>\n",
       "    </tr>\n",
       "    <tr>\n",
       "      <th>SFL</th>\n",
       "      <td>13131.0</td>\n",
       "      <td>2.799337</td>\n",
       "      <td>1.486164</td>\n",
       "      <td>0.712800</td>\n",
       "      <td>1.900100</td>\n",
       "      <td>2.545200</td>\n",
       "      <td>3.307750</td>\n",
       "      <td>42.712600</td>\n",
       "    </tr>\n",
       "    <tr>\n",
       "      <th>SP</th>\n",
       "      <td>13131.0</td>\n",
       "      <td>37.636810</td>\n",
       "      <td>13.415870</td>\n",
       "      <td>0.948500</td>\n",
       "      <td>35.368650</td>\n",
       "      <td>43.405900</td>\n",
       "      <td>46.280100</td>\n",
       "      <td>57.798200</td>\n",
       "    </tr>\n",
       "    <tr>\n",
       "      <th>Vp</th>\n",
       "      <td>13131.0</td>\n",
       "      <td>1.000000</td>\n",
       "      <td>0.000000</td>\n",
       "      <td>1.000000</td>\n",
       "      <td>1.000000</td>\n",
       "      <td>1.000000</td>\n",
       "      <td>1.000000</td>\n",
       "      <td>1.000000</td>\n",
       "    </tr>\n",
       "    <tr>\n",
       "      <th>Vp(m/s)</th>\n",
       "      <td>13131.0</td>\n",
       "      <td>10.702070</td>\n",
       "      <td>1.384677</td>\n",
       "      <td>5.540166</td>\n",
       "      <td>10.330579</td>\n",
       "      <td>10.989011</td>\n",
       "      <td>11.587486</td>\n",
       "      <td>16.778523</td>\n",
       "    </tr>\n",
       "    <tr>\n",
       "      <th>Vs(m/s)</th>\n",
       "      <td>13131.0</td>\n",
       "      <td>7.750297</td>\n",
       "      <td>1.113502</td>\n",
       "      <td>3.599300</td>\n",
       "      <td>7.451558</td>\n",
       "      <td>7.981043</td>\n",
       "      <td>8.462312</td>\n",
       "      <td>12.636737</td>\n",
       "    </tr>\n",
       "  </tbody>\n",
       "</table>\n",
       "</div>"
      ],
      "text/plain": [
       "           count         mean         std          min          25%  \\\n",
       "DEPTH    13131.0  2598.337597  615.283554  1524.000000  2067.991800   \n",
       "CALI     13131.0    12.537325    2.107427     8.643100    11.030600   \n",
       "GR       13131.0    87.235983   24.441441    28.004200    62.991050   \n",
       "ILD      13131.0     2.383127    1.089810     0.581700     1.735400   \n",
       "ITT      13131.0     0.095339    0.014940     0.059600     0.086300   \n",
       "LLD      13131.0     2.396797    1.323735     0.597000     1.603350   \n",
       "LLS      13131.0     2.667173    1.385152     0.675300     1.801850   \n",
       "MSFL     13131.0     2.561160    2.395647     0.209000     1.171900   \n",
       "NPHI     13131.0     0.257420    0.065861     0.037200     0.210700   \n",
       "RHOB     13131.0     2.418670    0.121271     1.750600     2.356250   \n",
       "SFL      13131.0     2.799337    1.486164     0.712800     1.900100   \n",
       "SP       13131.0    37.636810   13.415870     0.948500    35.368650   \n",
       "Vp       13131.0     1.000000    0.000000     1.000000     1.000000   \n",
       "Vp(m/s)  13131.0    10.702070    1.384677     5.540166    10.330579   \n",
       "Vs(m/s)  13131.0     7.750297    1.113502     3.599300     7.451558   \n",
       "\n",
       "                 50%          75%          max  \n",
       "DEPTH    2629.357200  3134.334600  3635.654400  \n",
       "CALI       12.104500    13.873200    20.282900  \n",
       "GR         98.395800   106.991700   131.366500  \n",
       "ILD         2.218900     2.850300     9.117600  \n",
       "ITT         0.091000     0.096800     0.180500  \n",
       "LLD         2.171200     2.819900    28.348200  \n",
       "LLS         2.447700     3.200650    29.775900  \n",
       "MSFL        1.806700     3.515500    75.173600  \n",
       "NPHI        0.243500     0.285300     0.490900  \n",
       "RHOB        2.440400     2.503650     2.692100  \n",
       "SFL         2.545200     3.307750    42.712600  \n",
       "SP         43.405900    46.280100    57.798200  \n",
       "Vp          1.000000     1.000000     1.000000  \n",
       "Vp(m/s)    10.989011    11.587486    16.778523  \n",
       "Vs(m/s)     7.981043     8.462312    12.636737  "
      ]
     },
     "execution_count": 2,
     "metadata": {},
     "output_type": "execute_result"
    }
   ],
   "source": [
    "df = pd.read_csv(\"/home/kduah/Desktop/Datain.csv\") \n",
    "\n",
    "print(df.shape)\n",
    "\n",
    "df.describe().transpose()"
   ]
  },
  {
   "cell_type": "code",
   "execution_count": 3,
   "id": "e497c476",
   "metadata": {},
   "outputs": [
    {
     "name": "stdout",
     "output_type": "stream",
     "text": [
      "(10504, 5)\n",
      "2576     7.137758\n",
      "5601     7.708124\n",
      "8391     7.358216\n",
      "11728    8.230674\n",
      "6495     8.915201\n",
      "           ...   \n",
      "11964    8.159367\n",
      "5191     8.763259\n",
      "5390     8.483957\n",
      "860      5.692654\n",
      "7270     7.635778\n",
      "Name: Vs(m/s), Length: 10504, dtype: float64\n"
     ]
    }
   ],
   "source": [
    "X = df[['NPHI', 'RHOB', 'GR', 'LLD','LLS']]\n",
    "\n",
    "y = df['Vs(m/s)'] #target variable\n",
    "\n",
    "\n",
    "X_train, X_test, y_train, y_test = train_test_split(X, y, test_size=0.2, random_state=42)\n",
    "\n",
    "print(X_train.shape); print(y_train) "
   ]
  },
  {
   "cell_type": "code",
   "execution_count": 4,
   "id": "0a98eac6",
   "metadata": {},
   "outputs": [
    {
     "name": "stdout",
     "output_type": "stream",
     "text": [
      "(10504, 5)\n",
      "(2627, 5)\n"
     ]
    }
   ],
   "source": [
    "\n",
    "X_train, X_test, y_train, y_test = train_test_split(X, y, test_size=0.20, random_state=42)\n",
    "\n",
    "#trained 80% of the data set and tested 20%\n",
    "print(X_train.shape); print(X_test.shape)"
   ]
  },
  {
   "cell_type": "code",
   "execution_count": 5,
   "id": "43c05286",
   "metadata": {},
   "outputs": [],
   "source": [
    "from sklearn.neural_network import MLPRegressor\n",
    "\n",
    "\n",
    "mlp = MLPRegressor(hidden_layer_sizes=(14,14,14\n",
    "                                      ), activation = 'relu', solver='adam') #choice of hidden layers\n",
    "\n",
    "\n",
    "mlp.fit(X_train,y_train)\n",
    "\n",
    "\n",
    "predict_train = mlp.predict(X_train)\n",
    "\n",
    "predict_test = mlp.predict(X_test)"
   ]
  },
  {
   "cell_type": "code",
   "execution_count": 6,
   "id": "0afb5044",
   "metadata": {},
   "outputs": [],
   "source": [
    "from sklearn import metrics\n",
    "\n",
    "from sklearn.metrics import accuracy_score\n",
    "from sklearn.tree import DecisionTreeClassifier\n",
    "from sklearn.metrics import mean_absolute_error, mean_squared_error\n"
   ]
  },
  {
   "cell_type": "code",
   "execution_count": 7,
   "id": "93cc170f",
   "metadata": {},
   "outputs": [
    {
     "data": {
      "text/plain": [
       "array([8.27079568, 7.7545143 , 8.28206628, ..., 8.57770536, 5.52576077,\n",
       "       8.24441463])"
      ]
     },
     "execution_count": 7,
     "metadata": {},
     "output_type": "execute_result"
    }
   ],
   "source": [
    "predict_test"
   ]
  },
  {
   "cell_type": "code",
   "execution_count": 22,
   "id": "4c4934e3",
   "metadata": {},
   "outputs": [
    {
     "name": "stdout",
     "output_type": "stream",
     "text": [
      "[array([[ 7.10318884e-001, -1.17185043e+000,  2.04534717e-054,\n",
      "         1.42671272e+000, -3.41042739e-028,  6.70266656e-001,\n",
      "         1.06521097e+000,  3.22791069e-017,  3.25803145e-001,\n",
      "        -1.19642393e+000, -1.35920033e+000,  1.46234302e+000,\n",
      "        -1.19883205e+000, -5.35779821e-002],\n",
      "       [ 4.48195925e-001, -1.59609119e-002,  2.75066709e-040,\n",
      "        -4.51896183e-001, -6.90832083e-004,  1.77691811e-001,\n",
      "        -4.16920528e-001, -1.31843481e-005, -3.75510193e-002,\n",
      "        -2.01233501e-001,  4.63833552e-001, -4.81837568e-001,\n",
      "        -5.85043714e-002, -3.80028867e-001],\n",
      "       [ 1.27908793e-001,  2.51842502e-001,  9.28104686e-131,\n",
      "         2.73203463e-001, -3.34001357e-002, -1.70953216e-001,\n",
      "        -3.44892960e-002, -1.35225836e-002,  4.61243305e-002,\n",
      "         1.86827038e-001,  2.49191208e-001,  2.46613646e-001,\n",
      "         1.58789203e-001, -8.76281185e-003],\n",
      "       [ 6.61915039e-001, -4.23341405e-001, -3.93900922e-040,\n",
      "        -3.36581904e-001, -1.71380160e-002,  2.22308126e-001,\n",
      "         4.73288802e-001, -2.51057834e-012, -5.07495474e-001,\n",
      "         2.11548662e-001, -3.32706381e-001, -2.81098831e-001,\n",
      "         5.10933542e-001, -4.74155811e-001],\n",
      "       [ 1.54636293e-001,  3.75934989e-001, -5.19693286e-042,\n",
      "         3.16250889e-001,  3.48255940e-003,  2.49555530e-001,\n",
      "         1.13871375e-001, -1.13876306e-010, -8.05436206e-001,\n",
      "        -2.83532378e-001,  5.17601488e-001, -4.94613171e-001,\n",
      "        -1.51057518e-001,  4.08434896e-001]]), array([[ 1.26623041e-001, -2.60115425e-055, -1.88856742e-002,\n",
      "        -6.10204567e-002, -7.00858259e-002, -3.84319056e-002,\n",
      "        -4.17324634e-001,  5.26611935e-002,  1.63837309e-001,\n",
      "         2.23802262e-001,  2.62783453e-001, -4.88761453e-001,\n",
      "        -3.48659888e-001, -2.43583856e-001],\n",
      "       [ 3.63397173e-001,  1.89245379e-057, -1.34027583e-002,\n",
      "        -2.90287332e-002,  1.12170276e-001, -1.36169983e-002,\n",
      "         3.70539505e-001, -3.05010981e-001, -1.70340511e-001,\n",
      "         1.05646225e-001, -4.24026463e-001, -1.99586691e-001,\n",
      "         2.92590832e-001,  3.15962158e-001],\n",
      "       [ 1.13262578e-083,  6.58560465e-134,  4.55461102e-103,\n",
      "         9.90945807e-088, -7.45046643e-122, -1.13227712e-082,\n",
      "         1.63297001e-074,  1.11165910e-128,  9.59821539e-055,\n",
      "        -1.05952408e-124,  2.88143133e-105, -3.48743568e-055,\n",
      "         8.13027233e-109, -2.38089631e-068],\n",
      "       [ 4.32677022e-001, -3.38395863e-059, -1.28040278e-002,\n",
      "         1.72299603e-001,  8.72696154e-003, -1.67462710e-002,\n",
      "         1.50373026e-001, -1.73524386e-001,  6.81359943e-002,\n",
      "        -3.51626653e-001, -9.37090527e-002,  2.97069303e-001,\n",
      "         1.32336838e-001, -4.45181538e-001],\n",
      "       [ 1.92436276e-060, -1.06595898e-126,  7.86072338e-055,\n",
      "         2.08045139e-074,  3.52378961e-004, -1.14119819e-124,\n",
      "        -1.76134060e-112, -6.01101387e-103,  1.19486659e-003,\n",
      "        -4.15020701e-004,  1.42036465e-003, -1.33661467e-131,\n",
      "         2.00118176e-097,  2.36855627e-002],\n",
      "       [-9.87834132e-002,  7.46774730e-101, -1.76421621e-055,\n",
      "        -2.17047412e-112,  4.21403191e-001, -6.49316815e-069,\n",
      "        -1.85812026e-001, -1.03817414e-001,  1.85232267e-001,\n",
      "        -4.89785451e-001,  1.56175857e-003,  3.76929992e-001,\n",
      "         2.97921683e-001,  3.42633842e-001],\n",
      "       [-2.96211949e-001,  8.42877392e-103, -7.98325258e-119,\n",
      "         9.98532317e-081, -2.39821418e-001, -1.19004966e-061,\n",
      "         3.76172433e-001,  1.42177056e-001,  1.48290162e-001,\n",
      "        -1.13546061e-001, -1.59651536e-001,  3.91153312e-001,\n",
      "        -9.09940599e-002,  6.70150521e-003],\n",
      "       [-1.85428648e-061,  1.51945177e-106,  2.03935108e-127,\n",
      "         1.11898596e-075, -5.61278738e-020,  3.86496183e-096,\n",
      "         4.62447787e-018, -8.37904803e-104,  4.96972323e-017,\n",
      "         4.36939584e-125,  9.47297413e-020, -1.06752476e-032,\n",
      "        -2.16455456e-019, -4.32181260e-008],\n",
      "       [-1.75871548e-001, -1.64867881e-122, -6.71375962e-091,\n",
      "         2.10998108e-003, -3.98940300e-001, -1.44289980e-002,\n",
      "        -8.43018700e-002, -7.40774690e-132,  3.67427396e-001,\n",
      "         1.11617242e-130, -4.81665728e-001,  4.21193570e-002,\n",
      "        -2.38042995e-001, -1.01700808e-001],\n",
      "       [-6.99689370e-002,  2.35073351e-066, -9.74583281e-003,\n",
      "        -1.09767191e-002,  2.21208281e-001, -3.64069700e-003,\n",
      "         4.30870442e-001, -5.15018190e-002,  3.96250427e-003,\n",
      "         2.68377030e-001, -3.12922855e-002,  2.54101556e-001,\n",
      "         3.23090280e-001,  4.14123339e-001],\n",
      "       [-2.71265354e-001,  1.65872184e-087, -1.56700890e-002,\n",
      "        -2.02029311e-002,  2.16008970e-001, -3.49571805e-002,\n",
      "        -3.51078338e-001,  2.37331604e-001,  1.70540297e-001,\n",
      "        -4.45231478e-001,  2.06353062e-001,  2.41493134e-001,\n",
      "        -5.60965059e-002,  1.44512170e-001],\n",
      "       [-4.17120955e-001,  1.41477631e-116, -7.26986653e-007,\n",
      "        -7.75702323e-002,  1.22796113e-001, -1.51213300e-002,\n",
      "         1.41756390e-001,  5.18247503e-108,  3.01095648e-001,\n",
      "        -3.85887678e-001,  2.15110290e-001,  4.96530280e-002,\n",
      "         1.26934724e-001, -1.34012867e-001],\n",
      "       [-3.96303414e-001, -1.13757173e-070, -1.08211328e-002,\n",
      "        -1.19831084e-001, -2.76119287e-001, -2.76889733e-002,\n",
      "         2.70661216e-001, -2.28284870e-001, -2.48250424e-001,\n",
      "         2.86437999e-001,  1.25977919e-001,  1.22891151e-002,\n",
      "        -3.54196048e-001,  3.10925832e-001],\n",
      "       [-1.60322831e-001, -1.34384399e-080,  4.03889653e-108,\n",
      "        -1.22368364e-062, -4.89057656e-002,  1.26250112e-122,\n",
      "         1.49359601e-001, -3.22129165e-060,  2.00384868e-001,\n",
      "        -3.60034497e-097,  4.31750221e-002,  2.25211764e-001,\n",
      "         2.36329774e-001, -7.46783930e-002]]), array([[-1.89770191e-001, -4.65906197e-001,  5.17385829e-001,\n",
      "         1.16713911e-001, -1.52644822e-001,  2.03224559e-001,\n",
      "        -2.10821809e-001, -1.79277970e-001,  4.35214638e-002,\n",
      "        -2.60115374e-001,  2.71649687e-001, -1.70463222e-001,\n",
      "         5.06453003e-001,  4.27346251e-001],\n",
      "       [ 2.09759652e-098,  6.45270682e-126,  5.85646313e-052,\n",
      "        -2.05348372e-077, -2.46574272e-098,  6.31706630e-058,\n",
      "        -2.21577835e-083,  1.26960969e-055,  2.30490619e-112,\n",
      "        -5.98244077e-076,  6.60291258e-114, -5.68556014e-073,\n",
      "        -1.95946931e-130,  2.25482304e-069],\n",
      "       [ 8.73380027e-005,  2.02698768e-061,  1.35172042e-003,\n",
      "         3.70573819e-004,  7.65275006e-131,  6.50309900e-004,\n",
      "        -5.75046650e-067,  8.62964469e-004, -2.01892660e-114,\n",
      "         1.78138321e-005,  2.84731039e-003,  4.01493085e-003,\n",
      "         1.33476365e-003,  2.92236572e-003],\n",
      "       [-5.13814723e-107,  6.79901656e-121,  2.59491379e-111,\n",
      "        -7.66263029e-107,  5.64577467e-129,  1.31589894e-084,\n",
      "        -4.62388269e-116,  2.83820865e-073,  1.18733945e-080,\n",
      "        -3.67098618e-104, -3.05714492e-073,  1.07069862e-073,\n",
      "        -1.09356029e-081,  3.26352377e-088],\n",
      "       [ 3.07993560e-001,  8.76363633e-002, -3.54489973e-001,\n",
      "        -2.83199386e-001,  1.55972032e-001, -2.14714940e-001,\n",
      "        -2.14839788e-001,  9.61239127e-002,  1.37133069e-001,\n",
      "         1.15375374e-001,  1.39003048e-001,  2.50794561e-001,\n",
      "         3.74554545e-001,  3.56561525e-001],\n",
      "       [-1.79243860e-047, -6.87257680e-096, -1.04828579e-020,\n",
      "        -4.42495185e-089,  2.35839241e-124, -6.54554741e-027,\n",
      "        -9.65561952e-031, -1.23978032e-025, -5.50439004e-062,\n",
      "        -4.57878560e-029, -3.25642547e-064,  3.96962978e-018,\n",
      "         1.38206379e-027, -6.49160625e-020],\n",
      "       [ 3.83603950e-001, -5.56072158e-002,  2.08923443e-001,\n",
      "        -4.33867680e-001, -5.68641685e-002,  3.54508186e-002,\n",
      "         3.37147060e-001, -4.52895692e-001, -1.72961151e-001,\n",
      "         1.00051986e-002, -1.41476643e-001, -3.73589452e-001,\n",
      "        -3.09481945e-001, -2.68354665e-001],\n",
      "       [-5.39168479e-002, -1.40648416e-001, -3.62076586e-001,\n",
      "         2.71550159e-001,  4.45343528e-105, -1.58293631e-001,\n",
      "         3.49939152e-104,  3.10173230e-001, -1.11887825e-077,\n",
      "        -4.94564403e-002,  2.16543335e-002, -2.00988095e-002,\n",
      "        -3.20259835e-001, -3.86729486e-001],\n",
      "       [ 3.29821079e-001,  1.46967635e-001,  1.01766091e-001,\n",
      "         3.60164293e-001, -4.55727146e-002, -3.66297630e-003,\n",
      "        -3.75326129e-001,  4.94263721e-001, -9.10716428e-002,\n",
      "        -1.95824337e-001, -3.51355256e-001, -2.38172912e-001,\n",
      "        -1.74201007e-001, -4.70007404e-001],\n",
      "       [-1.57812232e-001, -3.88920153e-001, -2.23796202e-001,\n",
      "        -6.30198437e-002,  8.91319313e-002, -1.41867201e-001,\n",
      "        -2.37691906e-002, -7.41841598e-002,  9.02173817e-116,\n",
      "        -2.24027100e-001, -8.30137443e-002, -2.93957307e-001,\n",
      "         1.97497674e-002, -2.95069222e-001],\n",
      "       [ 2.57048289e-001,  2.36823805e-001,  1.83531875e-001,\n",
      "         3.60295708e-002, -2.23380434e-001,  1.83445825e-001,\n",
      "         1.68924625e-002, -1.84336750e-001, -2.20403178e-001,\n",
      "        -6.53626607e-002,  3.16140347e-001, -2.01054766e-001,\n",
      "         2.58119840e-001, -8.86626097e-002],\n",
      "       [-9.71322255e-002,  4.21471948e-001, -1.68025300e-001,\n",
      "        -1.98109132e-001, -5.85776617e-002,  3.59521513e-001,\n",
      "         3.00692085e-001, -5.38282796e-002,  3.36401437e-001,\n",
      "        -2.03583703e-001, -2.05263577e-001, -3.18537619e-003,\n",
      "         9.74660793e-002, -2.11585060e-001],\n",
      "       [ 2.08226010e-001, -4.00017633e-001, -2.48393151e-001,\n",
      "        -9.28701361e-002, -3.48269458e-001, -4.01508050e-001,\n",
      "         1.94956414e-001, -4.90522573e-002,  4.47261428e-002,\n",
      "        -2.93629266e-002, -1.13577668e-001,  3.45593085e-001,\n",
      "         7.10437889e-002,  4.39398257e-001],\n",
      "       [ 2.02953248e-001, -1.40948879e-001,  4.42367542e-001,\n",
      "         1.64929733e-001, -1.10933080e-001,  1.78645522e-001,\n",
      "         2.72149580e-001,  2.94541190e-001, -2.22480351e-001,\n",
      "         3.96951763e-001,  3.98784303e-001,  3.45883170e-001,\n",
      "         1.01720042e-001,  4.57561425e-001]]), array([[ 0.24242673],\n",
      "       [-0.15274112],\n",
      "       [ 0.37511207],\n",
      "       [ 0.43923622],\n",
      "       [-0.52255454],\n",
      "       [ 0.42987845],\n",
      "       [ 0.3882616 ],\n",
      "       [ 0.62803497],\n",
      "       [ 0.44367025],\n",
      "       [ 0.36116514],\n",
      "       [ 1.5942376 ],\n",
      "       [ 0.8970338 ],\n",
      "       [ 0.41001726],\n",
      "       [ 0.70499435]])]\n"
     ]
    }
   ],
   "source": [
    "print(mlp.coefs_)"
   ]
  },
  {
   "cell_type": "code",
   "execution_count": 23,
   "id": "92a77624",
   "metadata": {},
   "outputs": [
    {
     "name": "stdout",
     "output_type": "stream",
     "text": [
      "[array([-0.47859902, -0.17402735, -0.52523368, -0.64129169,  0.33528407,\n",
      "        0.34381094,  0.34668617,  0.3368204 ,  0.18225361,  0.63547461,\n",
      "        0.27838369, -0.36363397,  0.0979217 , -0.30594298]), array([ 0.20928894, -0.41906321,  0.0828068 , -0.45868203,  0.13253355,\n",
      "        0.22636937, -0.26859722,  0.3662847 , -0.44359706,  0.02015746,\n",
      "       -0.05879957, -0.16570862,  0.59505664,  0.22173145]), array([ 0.37878077, -0.34298587,  0.29565345, -0.08874105,  0.41517136,\n",
      "        0.40724154,  0.1894095 ,  0.6778265 , -0.40268074,  0.24563268,\n",
      "        0.74648724,  0.57071412,  0.35266321,  0.53493982]), array([0.54036012])]\n"
     ]
    }
   ],
   "source": [
    "print(mlp.intercepts_)"
   ]
  },
  {
   "cell_type": "code",
   "execution_count": 8,
   "id": "9a5d49c1",
   "metadata": {},
   "outputs": [],
   "source": [
    "mae = mean_absolute_error(y_test, predict_test)\n",
    "mse = mean_squared_error(y_test, predict_test)\n",
    "rmse = np.sqrt(mse)"
   ]
  },
  {
   "cell_type": "code",
   "execution_count": 32,
   "id": "6aef32f6",
   "metadata": {},
   "outputs": [
    {
     "data": {
      "text/plain": [
       "0.8687484871623644"
      ]
     },
     "execution_count": 32,
     "metadata": {},
     "output_type": "execute_result"
    }
   ],
   "source": [
    "r2_score(y_test, predict_test)"
   ]
  },
  {
   "cell_type": "code",
   "execution_count": 9,
   "id": "8e1138e5",
   "metadata": {},
   "outputs": [
    {
     "name": "stdout",
     "output_type": "stream",
     "text": [
      "Mean absolute error: 0.29\n",
      "Mean squared error: 0.16\n",
      "Root mean squared error: 0.40\n"
     ]
    }
   ],
   "source": [
    "print(f'Mean absolute error: {mae:.2f}')\n",
    "print(f'Mean squared error: {mse:.2f}')\n",
    "print(f'Root mean squared error: {rmse:.2f}')"
   ]
  },
  {
   "cell_type": "code",
   "execution_count": 10,
   "id": "de6d4475",
   "metadata": {},
   "outputs": [],
   "source": [
    "df_preds = pd.DataFrame({'Actual': y_test.squeeze(), 'Predicted': predict_test.squeeze(), 'Difference':y_test-predict_test.squeeze()}) #printing them actual and predicted"
   ]
  },
  {
   "cell_type": "code",
   "execution_count": 11,
   "id": "f9165812",
   "metadata": {},
   "outputs": [
    {
     "name": "stdout",
     "output_type": "stream",
     "text": [
      "         Actual  Predicted  Difference\n",
      "4320   7.512070   8.270796   -0.758726\n",
      "2236   7.904033   7.754514    0.149519\n",
      "3578   7.894501   8.282066   -0.387565\n",
      "9928   8.451527   8.469556   -0.018028\n",
      "5762   7.913586   8.284593   -0.371008\n",
      "...         ...        ...         ...\n",
      "5434   8.939004   8.918244    0.020760\n",
      "8440   7.512070   7.264286    0.247784\n",
      "5748   8.169485   8.577705   -0.408221\n",
      "88     5.546668   5.525761    0.020907\n",
      "10976  8.271929   8.244415    0.027515\n",
      "\n",
      "[2627 rows x 3 columns]\n"
     ]
    }
   ],
   "source": [
    "print(df_preds)"
   ]
  },
  {
   "cell_type": "code",
   "execution_count": 12,
   "id": "6a858504",
   "metadata": {},
   "outputs": [],
   "source": [
    "model_score_test = mlp.score(X_test, y_test)"
   ]
  },
  {
   "cell_type": "code",
   "execution_count": 13,
   "id": "a75d98bd",
   "metadata": {},
   "outputs": [
    {
     "name": "stdout",
     "output_type": "stream",
     "text": [
      "model_score_test: 0.87\n"
     ]
    }
   ],
   "source": [
    "print(f'model_score_test: {model_score_test:.2f}') #how well the model learns the test data, 82%"
   ]
  },
  {
   "cell_type": "code",
   "execution_count": 14,
   "id": "e1456ea3",
   "metadata": {},
   "outputs": [],
   "source": [
    "model_score_train = mlp.score(X_train, y_train)"
   ]
  },
  {
   "cell_type": "code",
   "execution_count": 15,
   "id": "b4d4db7c",
   "metadata": {},
   "outputs": [
    {
     "name": "stdout",
     "output_type": "stream",
     "text": [
      "model_score_train: 0.87\n"
     ]
    }
   ],
   "source": [
    "print(f'model_score_train: {model_score_train:.2f}')#how well the model learned the training data "
   ]
  },
  {
   "cell_type": "code",
   "execution_count": 37,
   "id": "4cd99288",
   "metadata": {},
   "outputs": [
    {
     "data": {
      "text/plain": [
       "0.8687484871623644"
      ]
     },
     "execution_count": 37,
     "metadata": {},
     "output_type": "execute_result"
    }
   ],
   "source": [
    "r2_score(y_test, predict_test)"
   ]
  },
  {
   "cell_type": "code",
   "execution_count": 44,
   "id": "96bc7fcc",
   "metadata": {},
   "outputs": [
    {
     "data": {
      "image/png": "[encoded data removed]",
      "text/plain": [
       "<Figure size 432x288 with 1 Axes>"
      ]
     },
     "metadata": {
      "needs_background": "light"
     },
     "output_type": "display_data"
    }
   ],
   "source": [
    "plt.scatter(y_test,predict_test);\n",
    "plt.xlabel('Actual')\n",
    "plt.ylabel('Predicted')\n",
    "plt.annotate(\"R^2 = {:.2f}\".format(r2_score(y_test, predict_test)), (9,11))\n",
    "sns.regplot(x=y_test, y=predict_test, ci=None, color='blue').set(title=\"Actual vs Predicted for MLP\")\n",
    "#plt.annotate(\"R^2 = {:.3f}\".format(r2_score(y_test, predict_test)), (9,12))\n",
    "plt.savefig(\"ANN_MODEL.jpg\")\n",
    "plt.show()\n"
   ]
  },
  {
   "cell_type": "code",
   "execution_count": null,
   "id": "52b271be",
   "metadata": {},
   "outputs": [],
   "source": []
  }
 ],
 "metadata": {
  "kernelspec": {
   "display_name": "Python 3 (ipykernel)",
   "language": "python",
   "name": "python3"
  },
  "language_info": {
   "codemirror_mode": {
    "name": "ipython",
    "version": 3
   },
   "file_extension": ".py",
   "mimetype": "text/x-python",
   "name": "python",
   "nbconvert_exporter": "python",
   "pygments_lexer": "ipython3",
   "version": "3.8.10"
  }
 },
 "nbformat": 4,
 "nbformat_minor": 5
}
